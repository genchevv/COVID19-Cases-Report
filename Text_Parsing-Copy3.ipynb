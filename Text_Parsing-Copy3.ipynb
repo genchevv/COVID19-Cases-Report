{
 "cells": [
  {
   "cell_type": "code",
   "execution_count": null,
   "metadata": {},
   "outputs": [],
   "source": [
    "import os\n",
    "import nltk\n",
    "import re\n",
    "import pandas as pd\n",
    "import dateutil.parser\n"
   ]
  },
  {
   "cell_type": "code",
   "execution_count": null,
   "metadata": {},
   "outputs": [],
   "source": [
    "base_path = '/home/Data/Text_Parsing_Project'\n",
    "filename = 'summary27.txt'\n",
    "path_to_file = os.path.join(base_path, filename)\n",
    "fd = open(path_to_file , 'r')\n",
    "\n",
    "with fd:\n",
    "    text = fd.read()"
   ]
  },
  {
   "cell_type": "code",
   "execution_count": null,
   "metadata": {},
   "outputs": [],
   "source": [
    "from nltk import sent_tokenize\n",
    "sentences = sent_tokenize(text)\n"
   ]
  },
  {
   "cell_type": "code",
   "execution_count": null,
   "metadata": {},
   "outputs": [],
   "source": [
    "#Regex expression to build the list of paragraphs in \"Prevention\" category:\n",
    "\n",
    "pattern = '(?s)(?<=new, recovered and deceased cases.).*(?=Overview)'\n",
    "prevention_all = re.findall(pattern, text)\n",
    "list_prevention_paragraphs = re.findall('.*\\n', prevention_all[0])\n",
    "list_prevention_paragraphs = [e for e in list_prevention_paragraphs if e[0:2] == 'On' or e[0:4] == 'From']\n",
    "list_govt_paragraphs = []\n",
    "list_references = []\n",
    "\n",
    "\n",
    "for p in list_prevention_paragraphs:\n",
    "    if 'A' in p or 'B' in p or 'C' in p or 'D' in p:\n",
    "        list_govt_paragraphs.append(p)\n",
    "        list_prevention_paragraphs.remove(p)\n",
    "\n",
    "#Bulding the list of 'Responsive Action' paragraphs from the Gender-based violence section:        \n",
    "\n",
    "pattern = '(?s)(?<=gender-based violence\\n).*(?=Shelter)'\n",
    "dom_violence_all = re.findall(pattern, text)\n",
    "dom_violence_paragraphs = re.findall('.*\\n', dom_violence_all[0])\n",
    "\n",
    "#Only relevant paragraphs are included, \\n list entries are omitted:\n",
    "\n",
    "list_responsive_action_paragraphs = [e for e in dom_violence_paragraphs if e[0:2] == 'On' or e[0:4] == 'From']\n",
    "list_govt_paragraphs = [e for e in list_govt_paragraphs if e[0:2] == 'On' or e[0:4] == 'From']\n",
    "\n",
    "\n",
    "for _ in range(len(list_prevention_paragraphs)):\n",
    "    list_references.append('NRP pg. 59 Prevention')\n",
    "for _ in range(len(list_govt_paragraphs)):\n",
    "    list_references.append('Government measures')\n",
    "for _ in range(len(list_responsive_action_paragraphs)):\n",
    "    list_references.append('NRP pg. 49 Responsive actions')\n",
    "\n",
    "list_all_paragraphs = (list_prevention_paragraphs) + (list_govt_paragraphs) + (list_responsive_action_paragraphs)"
   ]
  },
  {
   "cell_type": "code",
   "execution_count": null,
   "metadata": {},
   "outputs": [],
   "source": [
    "list_all_ids = [num for num in range(1, len(list_all_paragraphs) + 1)]\n"
   ]
  },
  {
   "cell_type": "code",
   "execution_count": null,
   "metadata": {},
   "outputs": [],
   "source": [
    "#Lists of dates for \"Dates\" column, to be matched with \"Prevention\" and \"Domestic Violence\" categories\n",
    "\n",
    "pattern = re.compile(r'(?:(?<=On\\s)|(?<=\\d\\sto\\s)).*?(?=,)')\n",
    "\n",
    "list_dates_prevention = re.findall(pattern, ' '.join(list_prevention_paragraphs))\n",
    "list_dates_govt = re.findall(pattern, ' '.join(list_govt_paragraphs))\n",
    "list_dates_responsive_action = re.findall(pattern, dom_violence_all[0])\n",
    "\n",
    "list_all_dates = list_dates_prevention + list_dates_govt + list_dates_responsive_action"
   ]
  },
  {
   "cell_type": "code",
   "execution_count": null,
   "metadata": {},
   "outputs": [],
   "source": [
    "#Create a list of locations for 'Geo. Area' from all_paragraphs here:\n",
    "\n",
    "list_areas = ['A', 'B', 'C', 'D', 'E', 'F', 'G', 'H', 'I']\n"
   ]
  },
  {
   "cell_type": "code",
   "execution_count": null,
   "metadata": {},
   "outputs": [],
   "source": [
    "#current source\n",
    "\n",
    "pattern = '(?<=Report No: )\\d{2}'\n",
    "report_num = re.findall(pattern, text)[0]\n",
    "source = f'Weekly COVID-19 Summary Report No: {report_num}'"
   ]
  },
  {
   "cell_type": "code",
   "execution_count": null,
   "metadata": {},
   "outputs": [],
   "source": [
    "#Create the dictionary here\n",
    "\n",
    "dict_all = {}\n",
    "for i in range(len(list_all_ids)):\n",
    "    dict_all[list_all_ids[i]] = {'Date': list_all_dates[i], 'Contributing unit': 'RC MI', 'Impact': 'Municipality level', 'Geo. Area': [], 'Ref. to National Response Plan and other government documents': list_references[i], 'Description': list_all_paragraphs[i], 'Sources/Remarks/Recommendations': source}\n",
    "    for area in list_areas:\n",
    "        if area in dict_all[list_all_ids[i]]['Description']:\n",
    "            dict_all[list_all_ids[i]]['Geo. Area'].append(area)\n",
    "    dict_all[list_all_ids[i]]['Geo. Area'] = ', '.join(dict_all[list_all_ids[i]]['Geo. Area'])\n",
    "    dict_all[list_all_ids[i]]['Geo. Area'] = dict_all[list_all_ids[i]]['Geo. Area'].replace(\"'\", \"\")\n",
    "    "
   ]
  },
  {
   "cell_type": "code",
   "execution_count": null,
   "metadata": {},
   "outputs": [],
   "source": [
    "#df_all = pd.DataFrame(dict_all)\n",
    "#(dict_all['1'],columns=['Description'])\n",
    "#df_all = pd.DataFrame.from_dict(dict_all)\n",
    "#[list_all_ids],columns=['Date','Contributing unit','Impact','Geo. Area','Ref. to National Response Plan and other government documents','Description','Sources/Remarks/Recommendations']\n",
    "\n",
    "df_all = pd.DataFrame.from_dict(dict_all, orient='index')\n",
    "\n",
    "df_all['Date'] = df_all['Date'].apply(lambda x: dateutil.parser.parse(x).date())\n",
    "df_all.to_excel('covid_weekly.xlsx', index=False)\n",
    "print('Spreadsheet saved.')\n",
    "\n",
    "#$ python3 write_posts.py\n"
   ]
  },
  {
   "cell_type": "code",
   "execution_count": null,
   "metadata": {},
   "outputs": [],
   "source": []
  },
  {
   "cell_type": "code",
   "execution_count": null,
   "metadata": {},
   "outputs": [],
   "source": []
  }
 ],
 "metadata": {
  "kernelspec": {
   "display_name": "Python 3",
   "language": "python",
   "name": "python3"
  },
  "language_info": {
   "codemirror_mode": {
    "name": "ipython",
    "version": 3
   },
   "file_extension": ".py",
   "mimetype": "text/x-python",
   "name": "python",
   "nbconvert_exporter": "python",
   "pygments_lexer": "ipython3",
   "version": "3.8.3"
  }
 },
 "nbformat": 4,
 "nbformat_minor": 4
}
